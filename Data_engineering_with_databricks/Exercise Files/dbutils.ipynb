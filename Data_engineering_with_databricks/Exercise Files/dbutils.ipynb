{
 "cells": [
  {
   "cell_type": "code",
   "execution_count": 0,
   "metadata": {
    "application/vnd.databricks.v1+cell": {
     "cellMetadata": {
      "byteLimit": 2048000,
      "rowLimit": 10000
     },
     "inputWidgets": {},
     "nuid": "b27865ce-d87f-4681-b8b1-8f5a3bf1f98b",
     "showTitle": false,
     "tableResultSettingsMap": {},
     "title": ""
    }
   },
   "outputs": [
    {
     "output_type": "display_data",
     "data": {
      "text/html": [
       "<div class = \"ansiout\">\n",
       "This module provides various utilities for users to interact with the rest of Databricks.\n",
       "  <h3></h3><b>credentials: DatabricksCredentialUtils</b> -> Utilities for interacting with credentials within notebooks<br /><b>data: DataUtils</b> -> Utilities for understanding and interacting with datasets (EXPERIMENTAL)<br /><b>fs: DbfsUtils</b> -> Manipulates the Databricks filesystem (DBFS) from the console<br /><b>jobs: JobsUtils</b> -> Utilities for leveraging jobs features<br /><b>library: LibraryUtils</b> -> Utilities for session isolated libraries<br /><b>meta: MetaUtils</b> -> Methods to hook into the compiler (EXPERIMENTAL)<br /><b>notebook: NotebookUtils</b> -> Utilities for the control flow of a notebook (EXPERIMENTAL)<br /><b>preview: Preview</b> -> Utilities under preview category<br /><b>secrets: SecretUtils</b> -> Provides utilities for leveraging secrets within notebooks<br /><b>widgets: WidgetsUtils</b> -> Methods to create and get bound value of input widgets inside notebooks<br /><br /></div>"
      ]
     },
     "metadata": {},
     "output_type": "display_data"
    }
   ],
   "source": [
    "dbutils.help()"
   ]
  },
  {
   "cell_type": "code",
   "execution_count": 0,
   "metadata": {
    "application/vnd.databricks.v1+cell": {
     "cellMetadata": {
      "byteLimit": 2048000,
      "rowLimit": 10000
     },
     "inputWidgets": {},
     "nuid": "dc18fa12-f6ac-4522-b939-906b2944b45b",
     "showTitle": false,
     "tableResultSettingsMap": {},
     "title": ""
    }
   },
   "outputs": [
    {
     "output_type": "display_data",
     "data": {
      "text/html": [
       "<div class = \"ansiout\"><b>dbutils.fs</b> provides utilities for working with FileSystems. Most methods in\n",
       "this package can take either a DBFS path (e.g., \"/foo\" or \"dbfs:/foo\"), or\n",
       "another FileSystem URI.\n",
       "\n",
       "For more info about a method, use <b>dbutils.fs.help(\"methodName\")</b>.\n",
       "\n",
       "In notebooks, you can also use the %fs shorthand to access DBFS. The %fs shorthand maps\n",
       "straightforwardly onto dbutils calls. For example, \"%fs head --maxBytes=10000 /file/path\"\n",
       "translates into \"dbutils.fs.head(\"/file/path\", maxBytes = 10000)\".\n",
       "    <h3>fsutils</h3><b>cp(from: String, to: String, recurse: boolean = false): boolean</b> -> Copies a file or directory, possibly across FileSystems<br /><b>head(file: String, maxBytes: int = 65536): String</b> -> Returns up to the first 'maxBytes' bytes of the given file as a String encoded in UTF-8<br /><b>ls(dir: String): Seq</b> -> Lists the contents of a directory<br /><b>mkdirs(dir: String): boolean</b> -> Creates the given directory if it does not exist, also creating any necessary parent directories<br /><b>mv(from: String, to: String, recurse: boolean = false): boolean</b> -> Moves a file or directory, possibly across FileSystems<br /><b>put(file: String, contents: String, overwrite: boolean = false): boolean</b> -> Writes the given String out to a file, encoded in UTF-8<br /><b>rm(dir: String, recurse: boolean = false): boolean</b> -> Removes a file or directory<br /><br /><h3>mount</h3><b>mount(source: String, mountPoint: String, encryptionType: String = \"\", owner: String = null, extraConfigs: Map = Map.empty[String, String]): boolean</b> -> Mounts the given source directory into DBFS at the given mount point<br /><b>mounts: Seq</b> -> Displays information about what is mounted within DBFS<br /><b>refreshMounts: boolean</b> -> Forces all machines in this cluster to refresh their mount cache, ensuring they receive the most recent information<br /><b>unmount(mountPoint: String): boolean</b> -> Deletes a DBFS mount point<br /><b>updateMount(source: String, mountPoint: String, encryptionType: String = \"\", owner: String = null, extraConfigs: Map = Map.empty[String, String]): boolean</b> -> Similar to mount(), but updates an existing mount point (if present) instead of creating a new one<br /><br /></div>"
      ]
     },
     "metadata": {},
     "output_type": "display_data"
    }
   ],
   "source": [
    "dbutils.fs.help()"
   ]
  },
  {
   "cell_type": "code",
   "execution_count": 0,
   "metadata": {
    "application/vnd.databricks.v1+cell": {
     "cellMetadata": {
      "byteLimit": 2048000,
      "rowLimit": 10000
     },
     "inputWidgets": {},
     "nuid": "b2e07412-e458-4369-b874-374b9fbc3f93",
     "showTitle": false,
     "tableResultSettingsMap": {},
     "title": ""
    }
   },
   "outputs": [
    {
     "output_type": "execute_result",
     "data": {
      "text/plain": [
       "True"
      ]
     },
     "execution_count": 3,
     "metadata": {},
     "output_type": "execute_result"
    }
   ],
   "source": [
    "dbutils.fs.mkdirs(\"/FileStore/tables/New_dir_by_utils\")"
   ]
  },
  {
   "cell_type": "code",
   "execution_count": 0,
   "metadata": {
    "application/vnd.databricks.v1+cell": {
     "cellMetadata": {
      "byteLimit": 2048000,
      "rowLimit": 10000
     },
     "inputWidgets": {},
     "nuid": "8a2f8313-2efb-487d-9290-f573d02af070",
     "showTitle": false,
     "tableResultSettingsMap": {},
     "title": ""
    }
   },
   "outputs": [
    {
     "output_type": "execute_result",
     "data": {
      "text/plain": [
       "[FileInfo(path='dbfs:/FileStore/tables/New_dir_by_utils/', name='New_dir_by_utils/', size=0, modificationTime=1732080774000),\n",
       " FileInfo(path='dbfs:/FileStore/tables/SampleNested.json', name='SampleNested.json', size=291, modificationTime=1731563689000),\n",
       " FileInfo(path='dbfs:/FileStore/tables/customer.csv', name='customer.csv', size=123654, modificationTime=1731557169000),\n",
       " FileInfo(path='dbfs:/FileStore/tables/product.json', name='product.json', size=198924, modificationTime=1731557268000),\n",
       " FileInfo(path='dbfs:/FileStore/tables/transactions_snappy.parquet', name='transactions_snappy.parquet', size=156864, modificationTime=1731557700000)]"
      ]
     },
     "execution_count": 4,
     "metadata": {},
     "output_type": "execute_result"
    }
   ],
   "source": [
    "dbutils.fs.ls(\"/FileStore/tables\")"
   ]
  },
  {
   "cell_type": "code",
   "execution_count": 0,
   "metadata": {
    "application/vnd.databricks.v1+cell": {
     "cellMetadata": {
      "byteLimit": 2048000,
      "rowLimit": 10000
     },
     "inputWidgets": {},
     "nuid": "deed1205-9dee-442d-b6cd-8212df487013",
     "showTitle": false,
     "tableResultSettingsMap": {},
     "title": ""
    }
   },
   "outputs": [
    {
     "output_type": "execute_result",
     "data": {
      "text/plain": [
       "True"
      ]
     },
     "execution_count": 8,
     "metadata": {},
     "output_type": "execute_result"
    }
   ],
   "source": [
    "dbutils.fs.cp(\"/FileStore/tables/product.json\", \"/FileStore/tables/New_dir_by_utils\", False)"
   ]
  },
  {
   "cell_type": "code",
   "execution_count": 0,
   "metadata": {
    "application/vnd.databricks.v1+cell": {
     "cellMetadata": {
      "byteLimit": 2048000,
      "rowLimit": 10000
     },
     "inputWidgets": {},
     "nuid": "2a60e0c8-6eda-4bad-8f3e-2fb813b65584",
     "showTitle": false,
     "tableResultSettingsMap": {},
     "title": ""
    }
   },
   "outputs": [
    {
     "output_type": "execute_result",
     "data": {
      "text/plain": [
       "[FileInfo(path='dbfs:/FileStore/tables/New_dir_by_utils/product.json', name='product.json', size=198924, modificationTime=1732080981000)]"
      ]
     },
     "execution_count": 9,
     "metadata": {},
     "output_type": "execute_result"
    }
   ],
   "source": [
    "dbutils.fs.ls(\"/FileStore/tables/New_dir_by_utils\")"
   ]
  },
  {
   "cell_type": "code",
   "execution_count": 0,
   "metadata": {
    "application/vnd.databricks.v1+cell": {
     "cellMetadata": {
      "byteLimit": 2048000,
      "rowLimit": 10000
     },
     "inputWidgets": {},
     "nuid": "c129d5cd-b257-4385-8521-5d29279442a0",
     "showTitle": false,
     "tableResultSettingsMap": {},
     "title": ""
    }
   },
   "outputs": [
    {
     "output_type": "execute_result",
     "data": {
      "text/plain": [
       "True"
      ]
     },
     "execution_count": 10,
     "metadata": {},
     "output_type": "execute_result"
    }
   ],
   "source": [
    "dbutils.fs.rm(\"/FileStore/tables/New_dir_by_utils/product.json\", False)"
   ]
  },
  {
   "cell_type": "code",
   "execution_count": 0,
   "metadata": {
    "application/vnd.databricks.v1+cell": {
     "cellMetadata": {},
     "inputWidgets": {},
     "nuid": "a2a934ec-644c-44c9-b19a-9813ea37d1bb",
     "showTitle": false,
     "tableResultSettingsMap": {},
     "title": ""
    }
   },
   "outputs": [],
   "source": [
    "dbutils.fs.mv(\"/FileStore/tables/New_dir_by_utils/product.json\", \"/FileStore/tables/New_dir_by_utils/product_new.json\")"
   ]
  },
  {
   "cell_type": "code",
   "execution_count": 0,
   "metadata": {
    "application/vnd.databricks.v1+cell": {
     "cellMetadata": {
      "byteLimit": 2048000,
      "rowLimit": 10000
     },
     "inputWidgets": {},
     "nuid": "cbc35b1f-9492-48d7-a563-32d522f0480b",
     "showTitle": false,
     "tableResultSettingsMap": {},
     "title": ""
    }
   },
   "outputs": [
    {
     "output_type": "display_data",
     "data": {
      "text/html": [
       "<style scoped>\n",
       "  .table-result-container {\n",
       "    max-height: 300px;\n",
       "    overflow: auto;\n",
       "  }\n",
       "  table, th, td {\n",
       "    border: 1px solid black;\n",
       "    border-collapse: collapse;\n",
       "  }\n",
       "  th, td {\n",
       "    padding: 5px;\n",
       "  }\n",
       "  th {\n",
       "    text-align: left;\n",
       "  }\n",
       "</style><div class='table-result-container'><table class='table-result'><thead style='background-color: white'><tr><th>path</th><th>name</th><th>size</th><th>modificationTime</th></tr></thead><tbody><tr><td>dbfs:/FileStore/tables/New_dir_by_utils/</td><td>New_dir_by_utils/</td><td>0</td><td>1732080774000</td></tr><tr><td>dbfs:/FileStore/tables/New_dir_using_magic_command/</td><td>New_dir_using_magic_command/</td><td>0</td><td>1732081280000</td></tr><tr><td>dbfs:/FileStore/tables/SampleNested.json</td><td>SampleNested.json</td><td>291</td><td>1731563689000</td></tr><tr><td>dbfs:/FileStore/tables/customer.csv</td><td>customer.csv</td><td>123654</td><td>1731557169000</td></tr><tr><td>dbfs:/FileStore/tables/product.json</td><td>product.json</td><td>198924</td><td>1731557268000</td></tr><tr><td>dbfs:/FileStore/tables/transactions_snappy.parquet</td><td>transactions_snappy.parquet</td><td>156864</td><td>1731557700000</td></tr></tbody></table></div>"
      ]
     },
     "metadata": {
      "application/vnd.databricks.v1+output": {
       "addedWidgets": {},
       "aggData": [],
       "aggError": "",
       "aggOverflow": false,
       "aggSchema": [],
       "aggSeriesLimitReached": false,
       "aggType": "",
       "arguments": {},
       "columnCustomDisplayInfos": {},
       "data": [
        [
         "dbfs:/FileStore/tables/New_dir_by_utils/",
         "New_dir_by_utils/",
         0,
         1732080774000
        ],
        [
         "dbfs:/FileStore/tables/New_dir_using_magic_command/",
         "New_dir_using_magic_command/",
         0,
         1732081280000
        ],
        [
         "dbfs:/FileStore/tables/SampleNested.json",
         "SampleNested.json",
         291,
         1731563689000
        ],
        [
         "dbfs:/FileStore/tables/customer.csv",
         "customer.csv",
         123654,
         1731557169000
        ],
        [
         "dbfs:/FileStore/tables/product.json",
         "product.json",
         198924,
         1731557268000
        ],
        [
         "dbfs:/FileStore/tables/transactions_snappy.parquet",
         "transactions_snappy.parquet",
         156864,
         1731557700000
        ]
       ],
       "datasetInfos": [],
       "dbfsResultPath": null,
       "isJsonSchema": true,
       "metadata": {
        "isDbfsCommandResult": false
       },
       "overflow": false,
       "plotOptions": {
        "customPlotOptions": {},
        "displayType": "table",
        "pivotAggregation": null,
        "pivotColumns": null,
        "xColumns": null,
        "yColumns": null
       },
       "removedWidgets": [],
       "schema": [
        {
         "metadata": "{}",
         "name": "path",
         "type": "\"string\""
        },
        {
         "metadata": "{}",
         "name": "name",
         "type": "\"string\""
        },
        {
         "metadata": "{}",
         "name": "size",
         "type": "\"long\""
        },
        {
         "metadata": "{}",
         "name": "modificationTime",
         "type": "\"long\""
        }
       ],
       "type": "table"
      }
     },
     "output_type": "display_data"
    }
   ],
   "source": [
    "%fs\n",
    "ls /FileStore/tables"
   ]
  },
  {
   "cell_type": "code",
   "execution_count": 0,
   "metadata": {
    "application/vnd.databricks.v1+cell": {
     "cellMetadata": {
      "byteLimit": 2048000,
      "rowLimit": 10000
     },
     "inputWidgets": {},
     "nuid": "0a2a59f5-f5e0-4467-9878-730d55742468",
     "showTitle": false,
     "tableResultSettingsMap": {},
     "title": ""
    }
   },
   "outputs": [
    {
     "output_type": "display_data",
     "data": {
      "text/html": [
       "<style scoped>\n",
       "  .ansiout {\n",
       "    display: block;\n",
       "    unicode-bidi: embed;\n",
       "    white-space: pre-wrap;\n",
       "    word-wrap: break-word;\n",
       "    word-break: break-all;\n",
       "    font-family: \"Menlo\", \"Monaco\", \"Consolas\", \"Ubuntu Mono\", \"Source Code Pro\", monospace;\n",
       "    font-size: 13px;\n",
       "    color: #555;\n",
       "    margin-left: 4px;\n",
       "    line-height: 19px;\n",
       "  }\n",
       "</style>\n",
       "<div class=\"ansiout\">res4: Boolean = true\n",
       "</div>"
      ]
     },
     "metadata": {
      "application/vnd.databricks.v1+output": {
       "addedWidgets": {},
       "arguments": {},
       "data": "<div class=\"ansiout\">res4: Boolean = true\n</div>",
       "datasetInfos": [],
       "metadata": {
        "isDbfsCommandResult": false
       },
       "removedWidgets": [],
       "type": "html"
      }
     },
     "output_type": "display_data"
    }
   ],
   "source": [
    "%fs\n",
    "mkdirs /FileStore/tables/New_dir_using_magic_command"
   ]
  },
  {
   "cell_type": "code",
   "execution_count": 0,
   "metadata": {
    "application/vnd.databricks.v1+cell": {
     "cellMetadata": {},
     "inputWidgets": {},
     "nuid": "b3656479-8bc2-498f-9750-82a6ae4cba90",
     "showTitle": false,
     "tableResultSettingsMap": {},
     "title": ""
    }
   },
   "outputs": [],
   "source": [
    "dbutils.fs.mount(\n",
    "    source=\"wasbs://<container>@<storage_account>.blob.core.windows.net\",\n",
    "    mount_point=\"/mnt/<mount_name>\",\n",
    "    extra_configs={\"fs.azure.sas.<container-name>.<storage_account>.blob.core.windows.net\": \"<SAS-Token>\"}\n",
    ")"
   ]
  },
  {
   "cell_type": "code",
   "execution_count": 0,
   "metadata": {
    "application/vnd.databricks.v1+cell": {
     "cellMetadata": {
      "byteLimit": 2048000,
      "rowLimit": 10000
     },
     "inputWidgets": {},
     "nuid": "3a6560be-4aff-4e5e-a4df-5778ad69b1b5",
     "showTitle": false,
     "tableResultSettingsMap": {},
     "title": ""
    }
   },
   "outputs": [
    {
     "output_type": "execute_result",
     "data": {
      "text/plain": [
       "True"
      ]
     },
     "execution_count": 14,
     "metadata": {},
     "output_type": "execute_result"
    }
   ],
   "source": [
    "dbutils.fs.mount(\n",
    "    source=\"wasbs://landing@mission100adebatch9adls.blob.core.windows.net\",\n",
    "    mount_point=\"/mnt/azure_adls\",\n",
    "    extra_configs={\"fs.azure.sas.landing.mission100adebatch9adls.blob.core.windows.net\": \"sv=2022-11-02&ss=bfqt&srt=sco&sp=rwdlacupyx&se=2024-11-20T13:54:25Z&st=2024-11-20T05:54:25Z&spr=https&sig=y1aj%2FpIaywx2jA1wFgrmCzTWlEJf7L2W7ZolnUT%2F78o%3D\"}\n",
    ")"
   ]
  },
  {
   "cell_type": "code",
   "execution_count": 0,
   "metadata": {
    "application/vnd.databricks.v1+cell": {
     "cellMetadata": {
      "byteLimit": 2048000,
      "rowLimit": 10000
     },
     "inputWidgets": {},
     "nuid": "1e48ec78-4674-4ad6-9741-7f7293f9feba",
     "showTitle": false,
     "tableResultSettingsMap": {},
     "title": ""
    }
   },
   "outputs": [
    {
     "output_type": "display_data",
     "data": {
      "text/html": [
       "<style scoped>\n",
       "  .table-result-container {\n",
       "    max-height: 300px;\n",
       "    overflow: auto;\n",
       "  }\n",
       "  table, th, td {\n",
       "    border: 1px solid black;\n",
       "    border-collapse: collapse;\n",
       "  }\n",
       "  th, td {\n",
       "    padding: 5px;\n",
       "  }\n",
       "  th {\n",
       "    text-align: left;\n",
       "  }\n",
       "</style><div class='table-result-container'><table class='table-result'><thead style='background-color: white'><tr><th>path</th><th>name</th><th>size</th><th>modificationTime</th></tr></thead><tbody><tr><td>dbfs:/mnt/azure_adls/Address/</td><td>Address/</td><td>0</td><td>0</td></tr><tr><td>dbfs:/mnt/azure_adls/Azure Data Engineer Session 01 – 2024_09_14 07_35 IST – Transcript.docx</td><td>Azure Data Engineer Session 01 – 2024_09_14 07_35 IST – Transcript.docx</td><td>674656</td><td>1726373425000</td></tr><tr><td>dbfs:/mnt/azure_adls/CoursePerformance (9).csv</td><td>CoursePerformance (9).csv</td><td>69287</td><td>1727269460000</td></tr><tr><td>dbfs:/mnt/azure_adls/CoursePerformance - 2024-09-14T080515.273.csv</td><td>CoursePerformance - 2024-09-14T080515.273.csv</td><td>42397</td><td>1730002466000</td></tr><tr><td>dbfs:/mnt/azure_adls/Cusomter_Getmeta.csv</td><td>Cusomter_Getmeta.csv</td><td>217984</td><td>1728103947000</td></tr><tr><td>dbfs:/mnt/azure_adls/Customer/</td><td>Customer/</td><td>0</td><td>0</td></tr><tr><td>dbfs:/mnt/azure_adls/Customer.csv</td><td>Customer.csv</td><td>217984</td><td>1728102523000</td></tr><tr><td>dbfs:/mnt/azure_adls/CustomerAddress/</td><td>CustomerAddress/</td><td>0</td><td>0</td></tr><tr><td>dbfs:/mnt/azure_adls/EmployeeData-5gaVnrIEEP-6EMdx1D0Ws-wsZOrmEgxd.csv</td><td>EmployeeData-5gaVnrIEEP-6EMdx1D0Ws-wsZOrmEgxd.csv</td><td>75660</td><td>1729766231000</td></tr><tr><td>dbfs:/mnt/azure_adls/Product/</td><td>Product/</td><td>0</td><td>0</td></tr><tr><td>dbfs:/mnt/azure_adls/ProductCategory/</td><td>ProductCategory/</td><td>0</td><td>0</td></tr><tr><td>dbfs:/mnt/azure_adls/ProductDescription/</td><td>ProductDescription/</td><td>0</td><td>0</td></tr><tr><td>dbfs:/mnt/azure_adls/ProductModel/</td><td>ProductModel/</td><td>0</td><td>0</td></tr><tr><td>dbfs:/mnt/azure_adls/ProductModelProductDescription/</td><td>ProductModelProductDescription/</td><td>0</td><td>0</td></tr><tr><td>dbfs:/mnt/azure_adls/Product_new/</td><td>Product_new/</td><td>0</td><td>0</td></tr><tr><td>dbfs:/mnt/azure_adls/Q1/</td><td>Q1/</td><td>0</td><td>0</td></tr><tr><td>dbfs:/mnt/azure_adls/Q4/</td><td>Q4/</td><td>0</td><td>0</td></tr><tr><td>dbfs:/mnt/azure_adls/SalesLT.Customer.txt</td><td>SalesLT.Customer.txt</td><td>217984</td><td>1728099540000</td></tr><tr><td>dbfs:/mnt/azure_adls/SalesLT.Product.json</td><td>SalesLT.Product.json</td><td>998563</td><td>1727591930000</td></tr><tr><td>dbfs:/mnt/azure_adls/SalesLT.Product.txt</td><td>SalesLT.Product.txt</td><td>1358360</td><td>1728099518000</td></tr><tr><td>dbfs:/mnt/azure_adls/SalesOrderDetail/</td><td>SalesOrderDetail/</td><td>0</td><td>0</td></tr><tr><td>dbfs:/mnt/azure_adls/SalesOrderHeader/</td><td>SalesOrderHeader/</td><td>0</td><td>0</td></tr><tr><td>dbfs:/mnt/azure_adls/T1/</td><td>T1/</td><td>0</td><td>0</td></tr><tr><td>dbfs:/mnt/azure_adls/data_80ea712e-5b92-4035-ab0e-126704fd3039_f0369b16-8c2d-4350-a27f-02946249de5c.json</td><td>data_80ea712e-5b92-4035-ab0e-126704fd3039_f0369b16-8c2d-4350-a27f-02946249de5c.json</td><td>829743</td><td>1729308275000</td></tr><tr><td>dbfs:/mnt/azure_adls/employee.txt</td><td>employee.txt</td><td>102</td><td>1729915084000</td></tr><tr><td>dbfs:/mnt/azure_adls/erro_test.csv</td><td>erro_test.csv</td><td>227</td><td>1731728930000</td></tr><tr><td>dbfs:/mnt/azure_adls/f1/</td><td>f1/</td><td>0</td><td>0</td></tr><tr><td>dbfs:/mnt/azure_adls/vGetAllCategories/</td><td>vGetAllCategories/</td><td>0</td><td>0</td></tr><tr><td>dbfs:/mnt/azure_adls/vProductAndDescription/</td><td>vProductAndDescription/</td><td>0</td><td>0</td></tr><tr><td>dbfs:/mnt/azure_adls/vProductModelCatalogDescription/</td><td>vProductModelCatalogDescription/</td><td>0</td><td>0</td></tr></tbody></table></div>"
      ]
     },
     "metadata": {
      "application/vnd.databricks.v1+output": {
       "addedWidgets": {},
       "aggData": [],
       "aggError": "",
       "aggOverflow": false,
       "aggSchema": [],
       "aggSeriesLimitReached": false,
       "aggType": "",
       "arguments": {},
       "columnCustomDisplayInfos": {},
       "data": [
        [
         "dbfs:/mnt/azure_adls/Address/",
         "Address/",
         0,
         0
        ],
        [
         "dbfs:/mnt/azure_adls/Azure Data Engineer Session 01 – 2024_09_14 07_35 IST – Transcript.docx",
         "Azure Data Engineer Session 01 – 2024_09_14 07_35 IST – Transcript.docx",
         674656,
         1726373425000
        ],
        [
         "dbfs:/mnt/azure_adls/CoursePerformance (9).csv",
         "CoursePerformance (9).csv",
         69287,
         1727269460000
        ],
        [
         "dbfs:/mnt/azure_adls/CoursePerformance - 2024-09-14T080515.273.csv",
         "CoursePerformance - 2024-09-14T080515.273.csv",
         42397,
         1730002466000
        ],
        [
         "dbfs:/mnt/azure_adls/Cusomter_Getmeta.csv",
         "Cusomter_Getmeta.csv",
         217984,
         1728103947000
        ],
        [
         "dbfs:/mnt/azure_adls/Customer/",
         "Customer/",
         0,
         0
        ],
        [
         "dbfs:/mnt/azure_adls/Customer.csv",
         "Customer.csv",
         217984,
         1728102523000
        ],
        [
         "dbfs:/mnt/azure_adls/CustomerAddress/",
         "CustomerAddress/",
         0,
         0
        ],
        [
         "dbfs:/mnt/azure_adls/EmployeeData-5gaVnrIEEP-6EMdx1D0Ws-wsZOrmEgxd.csv",
         "EmployeeData-5gaVnrIEEP-6EMdx1D0Ws-wsZOrmEgxd.csv",
         75660,
         1729766231000
        ],
        [
         "dbfs:/mnt/azure_adls/Product/",
         "Product/",
         0,
         0
        ],
        [
         "dbfs:/mnt/azure_adls/ProductCategory/",
         "ProductCategory/",
         0,
         0
        ],
        [
         "dbfs:/mnt/azure_adls/ProductDescription/",
         "ProductDescription/",
         0,
         0
        ],
        [
         "dbfs:/mnt/azure_adls/ProductModel/",
         "ProductModel/",
         0,
         0
        ],
        [
         "dbfs:/mnt/azure_adls/ProductModelProductDescription/",
         "ProductModelProductDescription/",
         0,
         0
        ],
        [
         "dbfs:/mnt/azure_adls/Product_new/",
         "Product_new/",
         0,
         0
        ],
        [
         "dbfs:/mnt/azure_adls/Q1/",
         "Q1/",
         0,
         0
        ],
        [
         "dbfs:/mnt/azure_adls/Q4/",
         "Q4/",
         0,
         0
        ],
        [
         "dbfs:/mnt/azure_adls/SalesLT.Customer.txt",
         "SalesLT.Customer.txt",
         217984,
         1728099540000
        ],
        [
         "dbfs:/mnt/azure_adls/SalesLT.Product.json",
         "SalesLT.Product.json",
         998563,
         1727591930000
        ],
        [
         "dbfs:/mnt/azure_adls/SalesLT.Product.txt",
         "SalesLT.Product.txt",
         1358360,
         1728099518000
        ],
        [
         "dbfs:/mnt/azure_adls/SalesOrderDetail/",
         "SalesOrderDetail/",
         0,
         0
        ],
        [
         "dbfs:/mnt/azure_adls/SalesOrderHeader/",
         "SalesOrderHeader/",
         0,
         0
        ],
        [
         "dbfs:/mnt/azure_adls/T1/",
         "T1/",
         0,
         0
        ],
        [
         "dbfs:/mnt/azure_adls/data_80ea712e-5b92-4035-ab0e-126704fd3039_f0369b16-8c2d-4350-a27f-02946249de5c.json",
         "data_80ea712e-5b92-4035-ab0e-126704fd3039_f0369b16-8c2d-4350-a27f-02946249de5c.json",
         829743,
         1729308275000
        ],
        [
         "dbfs:/mnt/azure_adls/employee.txt",
         "employee.txt",
         102,
         1729915084000
        ],
        [
         "dbfs:/mnt/azure_adls/erro_test.csv",
         "erro_test.csv",
         227,
         1731728930000
        ],
        [
         "dbfs:/mnt/azure_adls/f1/",
         "f1/",
         0,
         0
        ],
        [
         "dbfs:/mnt/azure_adls/vGetAllCategories/",
         "vGetAllCategories/",
         0,
         0
        ],
        [
         "dbfs:/mnt/azure_adls/vProductAndDescription/",
         "vProductAndDescription/",
         0,
         0
        ],
        [
         "dbfs:/mnt/azure_adls/vProductModelCatalogDescription/",
         "vProductModelCatalogDescription/",
         0,
         0
        ]
       ],
       "datasetInfos": [],
       "dbfsResultPath": null,
       "isJsonSchema": true,
       "metadata": {
        "isDbfsCommandResult": false
       },
       "overflow": false,
       "plotOptions": {
        "customPlotOptions": {},
        "displayType": "table",
        "pivotAggregation": null,
        "pivotColumns": null,
        "xColumns": null,
        "yColumns": null
       },
       "removedWidgets": [],
       "schema": [
        {
         "metadata": "{}",
         "name": "path",
         "type": "\"string\""
        },
        {
         "metadata": "{}",
         "name": "name",
         "type": "\"string\""
        },
        {
         "metadata": "{}",
         "name": "size",
         "type": "\"long\""
        },
        {
         "metadata": "{}",
         "name": "modificationTime",
         "type": "\"long\""
        }
       ],
       "type": "table"
      }
     },
     "output_type": "display_data"
    }
   ],
   "source": [
    "%fs\n",
    "ls /mnt/azure_adls"
   ]
  },
  {
   "cell_type": "code",
   "execution_count": 0,
   "metadata": {
    "application/vnd.databricks.v1+cell": {
     "cellMetadata": {
      "byteLimit": 2048000,
      "rowLimit": 10000
     },
     "inputWidgets": {},
     "nuid": "4224cbe7-ac5f-4314-9726-6ef8c02812c1",
     "showTitle": false,
     "tableResultSettingsMap": {},
     "title": ""
    }
   },
   "outputs": [
    {
     "output_type": "display_data",
     "data": {
      "text/html": [
       "<style scoped>\n",
       "  .table-result-container {\n",
       "    max-height: 300px;\n",
       "    overflow: auto;\n",
       "  }\n",
       "  table, th, td {\n",
       "    border: 1px solid black;\n",
       "    border-collapse: collapse;\n",
       "  }\n",
       "  th, td {\n",
       "    padding: 5px;\n",
       "  }\n",
       "  th {\n",
       "    text-align: left;\n",
       "  }\n",
       "</style><div class='table-result-container'><table class='table-result'><thead style='background-color: white'><tr><th>ID</th><th>Name</th><th>Age</th><th>City</th></tr></thead><tbody><tr><td>1</td><td>John</td><td>25</td><td>New York</td></tr><tr><td>2</td><td>Emma</td><td>30</td><td>Los Angeles</td></tr><tr><td>3</td><td>Liam</td><td>22</td><td>Chicago</td></tr><tr><td>4</td><td>Olivia</td><td>28</td><td>Houston</td></tr><tr><td>5</td><td>Noah</td><td>35</td><td>Phoenix</td></tr><tr><td>4</td><td>Ava</td><td>26</td><td>San Antonio</td></tr><tr><td>7</td><td>Ethan</td><td>29</td><td>San Diego</td></tr><tr><td>8</td><td>Sophia</td><td>31</td><td>Dallas</td></tr><tr><td>9</td><td>Mason</td><td>24</td><td>San Jose</td></tr><tr><td>10</td><td>Isabella</td><td>27</td><td>Miami</td></tr></tbody></table></div>"
      ]
     },
     "metadata": {
      "application/vnd.databricks.v1+output": {
       "addedWidgets": {},
       "aggData": [],
       "aggError": "",
       "aggOverflow": false,
       "aggSchema": [],
       "aggSeriesLimitReached": false,
       "aggType": "",
       "arguments": {},
       "columnCustomDisplayInfos": {},
       "data": [
        [
         "1",
         "John",
         "25",
         "New York"
        ],
        [
         "2",
         "Emma",
         "30",
         "Los Angeles"
        ],
        [
         "3",
         "Liam",
         "22",
         "Chicago"
        ],
        [
         "4",
         "Olivia",
         "28",
         "Houston"
        ],
        [
         "5",
         "Noah",
         "35",
         "Phoenix"
        ],
        [
         "4",
         "Ava",
         "26",
         "San Antonio"
        ],
        [
         "7",
         "Ethan",
         "29",
         "San Diego"
        ],
        [
         "8",
         "Sophia",
         "31",
         "Dallas"
        ],
        [
         "9",
         "Mason",
         "24",
         "San Jose"
        ],
        [
         "10",
         "Isabella",
         "27",
         "Miami"
        ]
       ],
       "datasetInfos": [],
       "dbfsResultPath": null,
       "isJsonSchema": true,
       "metadata": {},
       "overflow": false,
       "plotOptions": {
        "customPlotOptions": {},
        "displayType": "table",
        "pivotAggregation": null,
        "pivotColumns": null,
        "xColumns": null,
        "yColumns": null
       },
       "removedWidgets": [],
       "schema": [
        {
         "metadata": "{}",
         "name": "ID",
         "type": "\"string\""
        },
        {
         "metadata": "{}",
         "name": "Name",
         "type": "\"string\""
        },
        {
         "metadata": "{}",
         "name": "Age",
         "type": "\"string\""
        },
        {
         "metadata": "{}",
         "name": "City",
         "type": "\"string\""
        }
       ],
       "type": "table"
      }
     },
     "output_type": "display_data"
    }
   ],
   "source": [
    "df= spark.read.csv(\"/mnt/azure_adls/erro_test.csv\", header=True)\n",
    "display(df)"
   ]
  },
  {
   "cell_type": "code",
   "execution_count": 0,
   "metadata": {
    "application/vnd.databricks.v1+cell": {
     "cellMetadata": {
      "byteLimit": 2048000,
      "rowLimit": 10000
     },
     "inputWidgets": {},
     "nuid": "a8e2c2ac-3838-4c58-a3a5-44a66ec1ceab",
     "showTitle": false,
     "tableResultSettingsMap": {},
     "title": ""
    }
   },
   "outputs": [
    {
     "output_type": "execute_result",
     "data": {
      "text/plain": [
       "[MountInfo(mountPoint='/mnt/azure_adls', source='wasbs://landing@mission100adebatch9adls.blob.core.windows.net', encryptionType=''),\n",
       " MountInfo(mountPoint='/databricks-datasets', source='databricks-datasets', encryptionType=''),\n",
       " MountInfo(mountPoint='/Volumes', source='UnityCatalogVolumes', encryptionType=''),\n",
       " MountInfo(mountPoint='/databricks/mlflow-tracking', source='databricks/mlflow-tracking', encryptionType=''),\n",
       " MountInfo(mountPoint='/databricks-results', source='databricks-results', encryptionType=''),\n",
       " MountInfo(mountPoint='/databricks/mlflow-registry', source='databricks/mlflow-registry', encryptionType=''),\n",
       " MountInfo(mountPoint='/Volume', source='DbfsReserved', encryptionType=''),\n",
       " MountInfo(mountPoint='/volumes', source='DbfsReserved', encryptionType=''),\n",
       " MountInfo(mountPoint='/', source='DatabricksRoot', encryptionType=''),\n",
       " MountInfo(mountPoint='/volume', source='DbfsReserved', encryptionType='')]"
      ]
     },
     "execution_count": 17,
     "metadata": {},
     "output_type": "execute_result"
    }
   ],
   "source": [
    "dbutils.fs.mounts()"
   ]
  },
  {
   "cell_type": "code",
   "execution_count": 0,
   "metadata": {
    "application/vnd.databricks.v1+cell": {
     "cellMetadata": {
      "byteLimit": 2048000,
      "rowLimit": 10000
     },
     "inputWidgets": {},
     "nuid": "b667ba17-9d71-4390-b195-02526e72de7a",
     "showTitle": false,
     "tableResultSettingsMap": {},
     "title": ""
    }
   },
   "outputs": [
    {
     "output_type": "stream",
     "name": "stdout",
     "output_type": "stream",
     "text": [
      "/mnt/azure_adls has been unmounted.\n"
     ]
    },
    {
     "output_type": "execute_result",
     "data": {
      "text/plain": [
       "True"
      ]
     },
     "execution_count": 18,
     "metadata": {},
     "output_type": "execute_result"
    }
   ],
   "source": [
    "dbutils.fs.unmount(\"/mnt/azure_adls\")"
   ]
  }
 ],
 "metadata": {
  "application/vnd.databricks.v1+notebook": {
   "dashboards": [],
   "environmentMetadata": {
    "base_environment": "",
    "client": "1"
   },
   "language": "python",
   "notebookMetadata": {
    "mostRecentlyExecutedCommandWithImplicitDF": {
     "commandId": 3267644490639386,
     "dataframes": [
      "_sqldf"
     ]
    },
    "pythonIndentUnit": 2
   },
   "notebookName": "dbutils",
   "widgets": {}
  },
  "language_info": {
   "name": "python"
  }
 },
 "nbformat": 4,
 "nbformat_minor": 0
}